{
 "cells": [
  {
   "cell_type": "code",
   "execution_count": 17,
   "id": "db1a0c26",
   "metadata": {},
   "outputs": [],
   "source": [
    "import os\n",
    "import numpy as np\n",
    "from PIL import Image\n",
    "from skimage.feature import graycomatrix, graycoprops\n",
    "from sklearn import svm\n",
    "from sklearn.model_selection import train_test_split\n",
    "from sklearn.metrics import accuracy_score, precision_score, recall_score\n",
    "import matplotlib.pyplot as plt\n",
    "import pickle"
   ]
  },
  {
   "cell_type": "markdown",
   "id": "5c05d644",
   "metadata": {},
   "source": [
    "These two two blocks are the original code to train the model."
   ]
  },
  {
   "cell_type": "code",
   "execution_count": 4,
   "id": "422c28cd",
   "metadata": {},
   "outputs": [],
   "source": [
    "# 数据准备\n",
    "def prepare_data(directory):\n",
    "    X = []  # 特征向量列表\n",
    "    y = []  # 标签列表\n",
    "    for filename in os.listdir(directory):\n",
    "        file_path = os.path.join(directory, filename)\n",
    "        for file in os.listdir(file_path):\n",
    "            image_path=os.path.join(file_path,file)\n",
    "            # 提取特征\n",
    "            features = extract_features(image_path)\n",
    "            X.append(features)\n",
    "            # 标记标签\n",
    "            if \"stego\" in filename:\n",
    "                label = 1 \n",
    "            elif \"clean\" in filename:\n",
    "                label=0\n",
    "            y.append(label)\n",
    "    print(\"data prepared\")\n",
    "    return np.array(X), np.array(y)\n",
    "\n",
    "# 提取特征（灰度共生矩阵）\n",
    "def extract_features(image_path):\n",
    "    image = Image.open(image_path).convert('L')  # 转为灰度图像\n",
    "    image_array = np.array(image)\n",
    "    # 计算灰度共生矩阵\n",
    "    glcm = graycomatrix(image_array, distances=[1], angles=[0], symmetric=True, normed=True)\n",
    "    # 提取灰度共生矩阵的统计特征（例如对比度、能量、相关性等）\n",
    "    features = graycoprops(glcm, prop='contrast'), graycoprops(glcm, prop='energy'),graycoprops(glcm, prop='correlation')\n",
    "    return np.hstack(features)\n",
    "\n",
    "# 数据划分\n",
    "def split_data(X, y):\n",
    "    return train_test_split(X, y,  random_state=10)\n",
    "\n",
    "# 模型训练\n",
    "def train_model(X_train, y_train):\n",
    "    \n",
    "    print(\"model training...\")\n",
    "    model = svm.SVC(kernel='linear')  # 使用线性核的SVM模型\n",
    "    model.fit(X_train, y_train)\n",
    "    print(\"model trained\")\n",
    "    return model\n",
    "\n",
    "# 模型评估\n",
    "def evaluate_model(model, X_test, y_test):\n",
    "    y_pred = model.predict(X_test)\n",
    "    accuracy = accuracy_score(y_test, y_pred)\n",
    "    precision = precision_score(y_test, y_pred)\n",
    "    recall = recall_score(y_test, y_pred)\n",
    "    return accuracy, precision, recall\n",
    "\n",
    "\n"
   ]
  },
  {
   "cell_type": "code",
   "execution_count": 5,
   "id": "cc3dc171",
   "metadata": {},
   "outputs": [
    {
     "name": "stdout",
     "output_type": "stream",
     "text": [
      "data prepared\n",
      "model training...\n",
      "model trained\n",
      "Accuracy: 0.75\n",
      "Precision: 0.75\n",
      "Recall: 1.00\n"
     ]
    }
   ],
   "source": [
    "# 数据准备\n",
    "data_directory = r'D:\\download\\archive\\train\\train'\n",
    "X, y = prepare_data(data_directory)\n",
    "\n",
    "# 数据划分\n",
    "X_train, X_test, y_train, y_test = split_data(X, y)\n",
    "X_train = (X_train.reshape(X_train.shape[0], X_train.shape[1] * X_train.shape[2]))\n",
    "X_test = (X_test.reshape(X_test.shape[0], X_test.shape[1] * X_test.shape[2]))\n",
    "\n",
    "# 模型训练\n",
    "model = train_model(X_train, y_train)\n",
    "\n",
    "# 模型评估\n",
    "accuracy, precision, recall = evaluate_model(model, X_test, y_test)\n",
    "print(\"Accuracy: {:.2f}\".format(accuracy))\n",
    "print(\"Precision: {:.2f}\".format(precision))\n",
    "print(\"Recall: {:.2f}\".format(recall))\n",
    "\n",
    "# # 运行主函数\n",
    "# if __name__ == \"__main__\":\n",
    "#     main()"
   ]
  },
  {
   "cell_type": "markdown",
   "id": "1a079d2f",
   "metadata": {},
   "source": [
    "This block is to load the trained model.Please run this one:"
   ]
  },
  {
   "cell_type": "code",
   "execution_count": null,
   "id": "f243d8da",
   "metadata": {},
   "outputs": [],
   "source": [
    "# Specify the file path of the trained SVM model\n",
    "model_file = './svm_model.pkl'\n",
    "\n",
    "# Load the SVM model\n",
    "with open(model_file, 'rb') as f:\n",
    "    model = pickle.load(f)\n",
    "\n",
    "# Now you can use the loaded SVM model for prediction or other tasks\n"
   ]
  },
  {
   "cell_type": "markdown",
   "id": "25204582",
   "metadata": {},
   "source": [
    "This will detect the test.png whether it hides secret message:"
   ]
  },
  {
   "cell_type": "code",
   "execution_count": 21,
   "id": "3b5a3d41",
   "metadata": {},
   "outputs": [
    {
     "name": "stdout",
     "output_type": "stream",
     "text": [
      "The image contains a secret message.Its contrast, energy and correlation are showed below:\n",
      "[1.00285884e+03 2.78919427e-02 9.01722054e-01]\n"
     ]
    }
   ],
   "source": [
    "# Load the image you want to test\n",
    "image_path = \n",
    "features = extract_features(image_path)\n",
    "features = features.reshape(1, -1)\n",
    "\n",
    "# Use the trained model to predict\n",
    "prediction = model.predict(features)[0]\n",
    "if prediction == 1:\n",
    "    print(\"The image contains a secret message.Its contrast, energy and correlation are showed below:\")\n",
    "    print(features[0])    \n",
    "else:\n",
    "    print(\"The image does not contain a secret message.\")\n"
   ]
  },
  {
   "cell_type": "markdown",
   "id": "00467ef0",
   "metadata": {},
   "source": [
    "This block can extract the LSB of pixels, convert the LSB to text, convert the LSB to image:"
   ]
  },
  {
   "cell_type": "code",
   "execution_count": 3,
   "id": "6e3b09dc",
   "metadata": {},
   "outputs": [],
   "source": [
    "from PIL import Image\n",
    "import numpy as np\n",
    "\n",
    "def Extract_LSB(image_path):\n",
    "    # Load the image\n",
    "    image = Image.open(image_path)\n",
    "    width, height = image.size\n",
    "\n",
    "    # Extract LSBs\n",
    "    binary_message = \"\"\n",
    "    for y in range(height):\n",
    "        for x in range(width):\n",
    "            pixel = list(image.getpixel((x, y)))\n",
    "            for channel in range(3):  # RGB channels\n",
    "                binary_message += str(pixel[channel] & 1)  # Extract the LSB\n",
    "    \n",
    "    return binary_message\n",
    "\n",
    "def extract_text(binary_message): \n",
    "    # Convert binary message to characters\n",
    "    characters = []\n",
    "    for i in range(0, len(binary_message), 8):\n",
    "        byte = binary_message[i:i+8]\n",
    "        characters.append(chr(int(byte, 2)))\n",
    "        \n",
    "    \n",
    "    return ''.join(characters)\n",
    "\n",
    "def decrypt_image(encrypted_image_path):\n",
    "    # Load the encrypted image\n",
    "    encrypted_image = Image.open(encrypted_image_path).convert('L')\n",
    "    encrypted_data = np.array(encrypted_image)\n",
    "\n",
    "    # Get image size\n",
    "    width, height = encrypted_image.size\n",
    "\n",
    "    # Create an empty image for decrypted pixels\n",
    "    decrypted_data = np.zeros((height, width), dtype=np.uint8)\n",
    "\n",
    "    # Iterate through each pixel and extract LSB\n",
    "    for y in range(height):\n",
    "        for x in range(width):\n",
    "            pixel = encrypted_data[y][x]\n",
    "\n",
    "            # Convert pixel value to binary\n",
    "            binary_pixel = bin(pixel)[2:].zfill(8)\n",
    "\n",
    "            # Extract the LSB and add 7 zeros\n",
    "            decrypted_pixel = int(binary_pixel[-1] + '0000000', 2)\n",
    "\n",
    "            # Assign the decrypted pixel value\n",
    "            decrypted_data[y][x] = decrypted_pixel\n",
    "\n",
    "    # Create decrypted image from decrypted pixel data\n",
    "    decrypted_image = Image.fromarray(decrypted_data)\n",
    "\n",
    "    return decrypted_image\n",
    "\n",
    "# Usage example\n",
    "encrypted_image_path = '\n",
    "\n",
    "decrypted_image = decrypt_image(encrypted_image_path)\n",
    "decrypted_image.save()\n",
    "\n",
    "print(\"Encrypted image successfully decrypted and saved as 'decrypted_image.png'\")"
   ]
  },
  {
   "cell_type": "markdown",
   "id": "9b95e487",
   "metadata": {},
   "source": [
    "This block can modify the LSB of each 4 pixel of image, also can set the nnum_bits:"
   ]
  },
  {
   "cell_type": "code",
   "execution_count": 24,
   "id": "c2da1eef",
   "metadata": {},
   "outputs": [
    {
     "name": "stdout",
     "output_type": "stream",
     "text": [
      "Modified image with disrupted secret message saved as: \n"
     ]
    }
   ],
   "source": [
    "def modify_LSBs(image_path, num_bits):\n",
    "    image = Image.open(image_path).convert('RGB')\n",
    "    pixels = image.load()\n",
    "    # Modify the LSBs of the pixels\n",
    "    for i in range(0,image.width,4):\n",
    "        for j in range(0,image.height,4):\n",
    "            r, g, b = pixels[i, j]\n",
    "            # Modify the least significant bits (LSBs)\n",
    "            r = (r & ~(2 ** num_bits - 1))  # Reset the least significant bits to 0\n",
    "            g = (g & ~(2 ** num_bits - 1))\n",
    "            b = (b & ~(2 ** num_bits - 1))\n",
    "            pixels[i, j] = (r, g, b)\n",
    "    # Save the modified image\n",
    "    modified_image_path = ''+image_path.split('.')[1]\n",
    "    image.save(modified_image_path)\n",
    "    return modified_image_path\n",
    "\n",
    "# Modify the LSBs if the image contains a secret message\n",
    "if prediction == 1:\n",
    "    modified_image_path = modify_LSBs(./car.png', num_bits=2)\n",
    "    print(\"Modified image with disrupted secret message saved as: {}\".format(modified_image_path))"
   ]
  },
  {
   "cell_type": "code",
   "execution_count": null,
   "id": "150d746d",
   "metadata": {},
   "outputs": [],
   "source": []
  }
 ],
 "metadata": {
  "kernelspec": {
   "display_name": "Python 3 (ipykernel)",
   "language": "python",
   "name": "python3"
  },
  "language_info": {
   "codemirror_mode": {
    "name": "ipython",
    "version": 3
   },
   "file_extension": ".py",
   "mimetype": "text/x-python",
   "name": "python",
   "nbconvert_exporter": "python",
   "pygments_lexer": "ipython3",
   "version": "3.10.10"
  }
 },
 "nbformat": 4,
 "nbformat_minor": 5
}
